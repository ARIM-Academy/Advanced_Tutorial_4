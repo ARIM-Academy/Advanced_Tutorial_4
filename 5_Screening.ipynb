{
 "cells": [
  {
   "cell_type": "markdown",
   "metadata": {},
   "source": [
    "# 情報活用講座：　ケモインフォマテックス 編　\n",
    "# 第5回：　スクリーニング\n",
    "\n",
    "\n",
    "## 底本\n",
    "船津 公人、柴山 翔二郎 **『実践 マテリアルズインフォマティクス　Pythonによる材料設計のための機械学習』**、近代科学社、2020  \n",
    "第９章第３節　プロジェクトの例/ 解析例２：水溶解度データと構造生成\n",
    "\n",
    "## 目標\n",
    "第４回では10,000の仮想化合物のバーチャルライブラリを作成しました。本編では、これらの化合物から候補材料を見つけます。以下の４つを念頭に進めます。\n",
    "\n",
    "* 教師データから適用範囲（AD）を定めます。ここではT2指標、Q値という距離指標を用います。\n",
    "* 第４回で構造生成した仮想ライブラリを予測器にかけ、適用範囲（AD）内に収まる化合物をスクリーニングします。\n",
    "\n",
    "## データセット\n",
    "delaney-processed.csvは1128化合物の水溶解度についてのデータセットです。このデータセットは、Delaneyの論文『ESOL: Estimating Aqueous Solubility Directly from Molecular Structure』[1] で発表されたものに基づいています。\n",
    "\n",
    "[1] John S. Delaney, \"ESOL:  Estimating Aqueous Solubility Directly from Molecular Structure\", J. Chem. Inf. Comput. Sci. 44, 1000–1005 (2004) (DOI: 10.1021/ci034243x)  \n",
    "\n",
    "Delaney-processed.csvは、分子の化学式、SMILES表記、また、水溶解度としてオクタノール水分配係数が含まれており、これらの特性は薬物探索や環境影響評価などの目的で使用されています。\n",
    "\n",
    "1. Compound ID\t：化合物ID\n",
    "1. ESOL predicted log solubility in mols per litre　：log水溶解度（オクタノール水分配係数）の予測値\t\n",
    "1. Minimum Degree：　最小次数\t\n",
    "1. Molecular Weight：分子量\t\n",
    "1. Number of H-Bond Donors\t：　水素結合に関与するDonor数\n",
    "1. Number of Rings\t：芳香環の数\t\n",
    "1. Number of Rotatable Bonds　：　回転可能結合数\t\n",
    "1. Polar Surface Area　：　極性表面積\t\n",
    "1. measured log solubility in mols per litre：log水溶解度の実測値\t\n",
    "1. smiles：SMILES表記"
   ]
  },
  {
   "cell_type": "markdown",
   "metadata": {},
   "source": [
    "# Google Colabにおける環境設定\n",
    "google colab環境でなければ実行不要"
   ]
  },
  {
   "cell_type": "code",
   "execution_count": null,
   "metadata": {},
   "outputs": [],
   "source": [
    "!pip install rdkit-pypi\n",
    "!git clone https://github.com/ARIM-Academy/Advanced_Tutorial_4.git\n",
    "\n",
    "%cd Advanced_Tutorial_4"
   ]
  },
  {
   "cell_type": "markdown",
   "metadata": {},
   "source": [
    "## 1.分子構造データの読み込み （P.130）\n",
    "### ライブラリのインポート"
   ]
  },
  {
   "cell_type": "code",
   "execution_count": 1,
   "metadata": {},
   "outputs": [],
   "source": [
    "#データ構造化ライブラリ\n",
    "import pandas as pd\n",
    "import numpy as np\n",
    "import matplotlib.pyplot as plt \n",
    "\n",
    "#機械学習ライブラリ\n",
    "from sklearn.model_selection import train_test_split, GridSearchCV\n",
    "from sklearn.cross_decomposition import PLSRegression\n",
    "from sklearn import metrics\n",
    "\n",
    "\n",
    "#記述子ライブラリ\n",
    "from rdkit import Chem\n",
    "from rdkit.Chem.AllChem import GetHashedMorganFingerprint\n",
    "\n",
    "from warnings import filterwarnings\n",
    "filterwarnings('ignore')# 警告を無視"
   ]
  },
  {
   "cell_type": "markdown",
   "metadata": {},
   "source": [
    "### サンプルファイルの読み込み\n",
    "第一回と同じく「data/delaney-solubility」フォルダーにあるdelaney-processed.csvをpandasの`read_csv()`で読み込みます。RDKitの`MolFromSmiles`関数を[smiles]列に適用してmol構造への変換オブジェクトを[mol]列とする流れも第一回と同じです。"
   ]
  },
  {
   "cell_type": "code",
   "execution_count": 2,
   "metadata": {},
   "outputs": [
    {
     "data": {
      "text/html": [
       "<div>\n",
       "<style scoped>\n",
       "    .dataframe tbody tr th:only-of-type {\n",
       "        vertical-align: middle;\n",
       "    }\n",
       "\n",
       "    .dataframe tbody tr th {\n",
       "        vertical-align: top;\n",
       "    }\n",
       "\n",
       "    .dataframe thead th {\n",
       "        text-align: right;\n",
       "    }\n",
       "</style>\n",
       "<table border=\"1\" class=\"dataframe\">\n",
       "  <thead>\n",
       "    <tr style=\"text-align: right;\">\n",
       "      <th></th>\n",
       "      <th>Compound ID</th>\n",
       "      <th>ESOL predicted log solubility in mols per litre</th>\n",
       "      <th>Minimum Degree</th>\n",
       "      <th>Molecular Weight</th>\n",
       "      <th>Number of H-Bond Donors</th>\n",
       "      <th>Number of Rings</th>\n",
       "      <th>Number of Rotatable Bonds</th>\n",
       "      <th>Polar Surface Area</th>\n",
       "      <th>measured log solubility in mols per litre</th>\n",
       "      <th>smiles</th>\n",
       "      <th>mol</th>\n",
       "    </tr>\n",
       "  </thead>\n",
       "  <tbody>\n",
       "    <tr>\n",
       "      <th>0</th>\n",
       "      <td>Amigdalin</td>\n",
       "      <td>-0.974</td>\n",
       "      <td>1</td>\n",
       "      <td>457.432</td>\n",
       "      <td>7</td>\n",
       "      <td>3</td>\n",
       "      <td>7</td>\n",
       "      <td>202.32</td>\n",
       "      <td>-0.770</td>\n",
       "      <td>OCC3OC(OCC2OC(OC(C#N)c1ccccc1)C(O)C(O)C2O)C(O)...</td>\n",
       "      <td>&lt;rdkit.Chem.rdchem.Mol object at 0x000001F44E8...</td>\n",
       "    </tr>\n",
       "    <tr>\n",
       "      <th>1</th>\n",
       "      <td>Fenfuram</td>\n",
       "      <td>-2.885</td>\n",
       "      <td>1</td>\n",
       "      <td>201.225</td>\n",
       "      <td>1</td>\n",
       "      <td>2</td>\n",
       "      <td>2</td>\n",
       "      <td>42.24</td>\n",
       "      <td>-3.300</td>\n",
       "      <td>Cc1occc1C(=O)Nc2ccccc2</td>\n",
       "      <td>&lt;rdkit.Chem.rdchem.Mol object at 0x000001F44E8...</td>\n",
       "    </tr>\n",
       "    <tr>\n",
       "      <th>2</th>\n",
       "      <td>citral</td>\n",
       "      <td>-2.579</td>\n",
       "      <td>1</td>\n",
       "      <td>152.237</td>\n",
       "      <td>0</td>\n",
       "      <td>0</td>\n",
       "      <td>4</td>\n",
       "      <td>17.07</td>\n",
       "      <td>-2.060</td>\n",
       "      <td>CC(C)=CCCC(C)=CC(=O)</td>\n",
       "      <td>&lt;rdkit.Chem.rdchem.Mol object at 0x000001F44E8...</td>\n",
       "    </tr>\n",
       "    <tr>\n",
       "      <th>3</th>\n",
       "      <td>Picene</td>\n",
       "      <td>-6.618</td>\n",
       "      <td>2</td>\n",
       "      <td>278.354</td>\n",
       "      <td>0</td>\n",
       "      <td>5</td>\n",
       "      <td>0</td>\n",
       "      <td>0.00</td>\n",
       "      <td>-7.870</td>\n",
       "      <td>c1ccc2c(c1)ccc3c2ccc4c5ccccc5ccc43</td>\n",
       "      <td>&lt;rdkit.Chem.rdchem.Mol object at 0x000001F44E8...</td>\n",
       "    </tr>\n",
       "    <tr>\n",
       "      <th>4</th>\n",
       "      <td>Thiophene</td>\n",
       "      <td>-2.232</td>\n",
       "      <td>2</td>\n",
       "      <td>84.143</td>\n",
       "      <td>0</td>\n",
       "      <td>1</td>\n",
       "      <td>0</td>\n",
       "      <td>0.00</td>\n",
       "      <td>-1.330</td>\n",
       "      <td>c1ccsc1</td>\n",
       "      <td>&lt;rdkit.Chem.rdchem.Mol object at 0x000001F44E8...</td>\n",
       "    </tr>\n",
       "    <tr>\n",
       "      <th>...</th>\n",
       "      <td>...</td>\n",
       "      <td>...</td>\n",
       "      <td>...</td>\n",
       "      <td>...</td>\n",
       "      <td>...</td>\n",
       "      <td>...</td>\n",
       "      <td>...</td>\n",
       "      <td>...</td>\n",
       "      <td>...</td>\n",
       "      <td>...</td>\n",
       "      <td>...</td>\n",
       "    </tr>\n",
       "    <tr>\n",
       "      <th>1123</th>\n",
       "      <td>halothane</td>\n",
       "      <td>-2.608</td>\n",
       "      <td>1</td>\n",
       "      <td>197.381</td>\n",
       "      <td>0</td>\n",
       "      <td>0</td>\n",
       "      <td>0</td>\n",
       "      <td>0.00</td>\n",
       "      <td>-1.710</td>\n",
       "      <td>FC(F)(F)C(Cl)Br</td>\n",
       "      <td>&lt;rdkit.Chem.rdchem.Mol object at 0x000001F44E9...</td>\n",
       "    </tr>\n",
       "    <tr>\n",
       "      <th>1124</th>\n",
       "      <td>Oxamyl</td>\n",
       "      <td>-0.908</td>\n",
       "      <td>1</td>\n",
       "      <td>219.266</td>\n",
       "      <td>1</td>\n",
       "      <td>0</td>\n",
       "      <td>1</td>\n",
       "      <td>71.00</td>\n",
       "      <td>0.106</td>\n",
       "      <td>CNC(=O)ON=C(SC)C(=O)N(C)C</td>\n",
       "      <td>&lt;rdkit.Chem.rdchem.Mol object at 0x000001F44E9...</td>\n",
       "    </tr>\n",
       "    <tr>\n",
       "      <th>1125</th>\n",
       "      <td>Thiometon</td>\n",
       "      <td>-3.323</td>\n",
       "      <td>1</td>\n",
       "      <td>246.359</td>\n",
       "      <td>0</td>\n",
       "      <td>0</td>\n",
       "      <td>7</td>\n",
       "      <td>18.46</td>\n",
       "      <td>-3.091</td>\n",
       "      <td>CCSCCSP(=S)(OC)OC</td>\n",
       "      <td>&lt;rdkit.Chem.rdchem.Mol object at 0x000001F44E9...</td>\n",
       "    </tr>\n",
       "    <tr>\n",
       "      <th>1126</th>\n",
       "      <td>2-Methylbutane</td>\n",
       "      <td>-2.245</td>\n",
       "      <td>1</td>\n",
       "      <td>72.151</td>\n",
       "      <td>0</td>\n",
       "      <td>0</td>\n",
       "      <td>1</td>\n",
       "      <td>0.00</td>\n",
       "      <td>-3.180</td>\n",
       "      <td>CCC(C)C</td>\n",
       "      <td>&lt;rdkit.Chem.rdchem.Mol object at 0x000001F44E9...</td>\n",
       "    </tr>\n",
       "    <tr>\n",
       "      <th>1127</th>\n",
       "      <td>Stirofos</td>\n",
       "      <td>-4.320</td>\n",
       "      <td>1</td>\n",
       "      <td>365.964</td>\n",
       "      <td>0</td>\n",
       "      <td>1</td>\n",
       "      <td>5</td>\n",
       "      <td>44.76</td>\n",
       "      <td>-4.522</td>\n",
       "      <td>COP(=O)(OC)OC(=CCl)c1cc(Cl)c(Cl)cc1Cl</td>\n",
       "      <td>&lt;rdkit.Chem.rdchem.Mol object at 0x000001F44E9...</td>\n",
       "    </tr>\n",
       "  </tbody>\n",
       "</table>\n",
       "<p>1128 rows × 11 columns</p>\n",
       "</div>"
      ],
      "text/plain": [
       "         Compound ID  ESOL predicted log solubility in mols per litre  \\\n",
       "0          Amigdalin                                           -0.974   \n",
       "1           Fenfuram                                           -2.885   \n",
       "2             citral                                           -2.579   \n",
       "3             Picene                                           -6.618   \n",
       "4          Thiophene                                           -2.232   \n",
       "...              ...                                              ...   \n",
       "1123       halothane                                           -2.608   \n",
       "1124          Oxamyl                                           -0.908   \n",
       "1125       Thiometon                                           -3.323   \n",
       "1126  2-Methylbutane                                           -2.245   \n",
       "1127        Stirofos                                           -4.320   \n",
       "\n",
       "      Minimum Degree  Molecular Weight  Number of H-Bond Donors  \\\n",
       "0                  1           457.432                        7   \n",
       "1                  1           201.225                        1   \n",
       "2                  1           152.237                        0   \n",
       "3                  2           278.354                        0   \n",
       "4                  2            84.143                        0   \n",
       "...              ...               ...                      ...   \n",
       "1123               1           197.381                        0   \n",
       "1124               1           219.266                        1   \n",
       "1125               1           246.359                        0   \n",
       "1126               1            72.151                        0   \n",
       "1127               1           365.964                        0   \n",
       "\n",
       "      Number of Rings  Number of Rotatable Bonds  Polar Surface Area  \\\n",
       "0                   3                          7              202.32   \n",
       "1                   2                          2               42.24   \n",
       "2                   0                          4               17.07   \n",
       "3                   5                          0                0.00   \n",
       "4                   1                          0                0.00   \n",
       "...               ...                        ...                 ...   \n",
       "1123                0                          0                0.00   \n",
       "1124                0                          1               71.00   \n",
       "1125                0                          7               18.46   \n",
       "1126                0                          1                0.00   \n",
       "1127                1                          5               44.76   \n",
       "\n",
       "      measured log solubility in mols per litre  \\\n",
       "0                                        -0.770   \n",
       "1                                        -3.300   \n",
       "2                                        -2.060   \n",
       "3                                        -7.870   \n",
       "4                                        -1.330   \n",
       "...                                         ...   \n",
       "1123                                     -1.710   \n",
       "1124                                      0.106   \n",
       "1125                                     -3.091   \n",
       "1126                                     -3.180   \n",
       "1127                                     -4.522   \n",
       "\n",
       "                                                 smiles  \\\n",
       "0     OCC3OC(OCC2OC(OC(C#N)c1ccccc1)C(O)C(O)C2O)C(O)...   \n",
       "1                                Cc1occc1C(=O)Nc2ccccc2   \n",
       "2                                  CC(C)=CCCC(C)=CC(=O)   \n",
       "3                    c1ccc2c(c1)ccc3c2ccc4c5ccccc5ccc43   \n",
       "4                                               c1ccsc1   \n",
       "...                                                 ...   \n",
       "1123                                   FC(F)(F)C(Cl)Br    \n",
       "1124                          CNC(=O)ON=C(SC)C(=O)N(C)C   \n",
       "1125                                  CCSCCSP(=S)(OC)OC   \n",
       "1126                                            CCC(C)C   \n",
       "1127              COP(=O)(OC)OC(=CCl)c1cc(Cl)c(Cl)cc1Cl   \n",
       "\n",
       "                                                    mol  \n",
       "0     <rdkit.Chem.rdchem.Mol object at 0x000001F44E8...  \n",
       "1     <rdkit.Chem.rdchem.Mol object at 0x000001F44E8...  \n",
       "2     <rdkit.Chem.rdchem.Mol object at 0x000001F44E8...  \n",
       "3     <rdkit.Chem.rdchem.Mol object at 0x000001F44E8...  \n",
       "4     <rdkit.Chem.rdchem.Mol object at 0x000001F44E8...  \n",
       "...                                                 ...  \n",
       "1123  <rdkit.Chem.rdchem.Mol object at 0x000001F44E9...  \n",
       "1124  <rdkit.Chem.rdchem.Mol object at 0x000001F44E9...  \n",
       "1125  <rdkit.Chem.rdchem.Mol object at 0x000001F44E9...  \n",
       "1126  <rdkit.Chem.rdchem.Mol object at 0x000001F44E9...  \n",
       "1127  <rdkit.Chem.rdchem.Mol object at 0x000001F44E9...  \n",
       "\n",
       "[1128 rows x 11 columns]"
      ]
     },
     "execution_count": 2,
     "metadata": {},
     "output_type": "execute_result"
    }
   ],
   "source": [
    "df=pd.read_csv('./data/dataset/delaney-processed.csv')\n",
    "df['mol'] = df['smiles'].apply(Chem.MolFromSmiles)\n",
    "df"
   ]
  },
  {
   "cell_type": "markdown",
   "metadata": {},
   "source": [
    "### データセットの分割（Data set splitting）\n",
    "分割は`test_size=0.2`として訓練データ：0.8、テストデータ：0.2とします。"
   ]
  },
  {
   "cell_type": "code",
   "execution_count": 3,
   "metadata": {},
   "outputs": [],
   "source": [
    "df_train, df_test = train_test_split(df, \n",
    "                                     test_size=.20, \n",
    "                                     random_state=42)"
   ]
  },
  {
   "cell_type": "markdown",
   "metadata": {},
   "source": [
    "目的変数を'measured log solubility in mols per litre'にセットします。"
   ]
  },
  {
   "cell_type": "code",
   "execution_count": 4,
   "metadata": {},
   "outputs": [],
   "source": [
    "ytrain = df_train['measured log solubility in mols per litre']"
   ]
  },
  {
   "cell_type": "code",
   "execution_count": 5,
   "metadata": {},
   "outputs": [],
   "source": [
    "from cheminfo.descriptors import RDKitDescriptor\n",
    "rdcalc = RDKitDescriptor()\n",
    "\n",
    "X = rdcalc.fit_transform(df_train['mol'])\n",
    "Xtrain = np.array(X.tolist())\n",
    "\n",
    "#X2 = rdcalc.transform(df_test['mol'])\n",
    "#Xtest = np.array(X2.tolist())"
   ]
  },
  {
   "cell_type": "markdown",
   "metadata": {},
   "source": [
    "### 機械学習モデル"
   ]
  },
  {
   "cell_type": "code",
   "execution_count": 7,
   "metadata": {},
   "outputs": [],
   "source": [
    "params = {'n_components': np.arange(1, 16)}\n",
    "optim = GridSearchCV(PLSRegression(), params)"
   ]
  },
  {
   "cell_type": "code",
   "execution_count": 8,
   "metadata": {},
   "outputs": [
    {
     "data": {
      "text/html": [
       "<style>#sk-container-id-1 {color: black;background-color: white;}#sk-container-id-1 pre{padding: 0;}#sk-container-id-1 div.sk-toggleable {background-color: white;}#sk-container-id-1 label.sk-toggleable__label {cursor: pointer;display: block;width: 100%;margin-bottom: 0;padding: 0.3em;box-sizing: border-box;text-align: center;}#sk-container-id-1 label.sk-toggleable__label-arrow:before {content: \"▸\";float: left;margin-right: 0.25em;color: #696969;}#sk-container-id-1 label.sk-toggleable__label-arrow:hover:before {color: black;}#sk-container-id-1 div.sk-estimator:hover label.sk-toggleable__label-arrow:before {color: black;}#sk-container-id-1 div.sk-toggleable__content {max-height: 0;max-width: 0;overflow: hidden;text-align: left;background-color: #f0f8ff;}#sk-container-id-1 div.sk-toggleable__content pre {margin: 0.2em;color: black;border-radius: 0.25em;background-color: #f0f8ff;}#sk-container-id-1 input.sk-toggleable__control:checked~div.sk-toggleable__content {max-height: 200px;max-width: 100%;overflow: auto;}#sk-container-id-1 input.sk-toggleable__control:checked~label.sk-toggleable__label-arrow:before {content: \"▾\";}#sk-container-id-1 div.sk-estimator input.sk-toggleable__control:checked~label.sk-toggleable__label {background-color: #d4ebff;}#sk-container-id-1 div.sk-label input.sk-toggleable__control:checked~label.sk-toggleable__label {background-color: #d4ebff;}#sk-container-id-1 input.sk-hidden--visually {border: 0;clip: rect(1px 1px 1px 1px);clip: rect(1px, 1px, 1px, 1px);height: 1px;margin: -1px;overflow: hidden;padding: 0;position: absolute;width: 1px;}#sk-container-id-1 div.sk-estimator {font-family: monospace;background-color: #f0f8ff;border: 1px dotted black;border-radius: 0.25em;box-sizing: border-box;margin-bottom: 0.5em;}#sk-container-id-1 div.sk-estimator:hover {background-color: #d4ebff;}#sk-container-id-1 div.sk-parallel-item::after {content: \"\";width: 100%;border-bottom: 1px solid gray;flex-grow: 1;}#sk-container-id-1 div.sk-label:hover label.sk-toggleable__label {background-color: #d4ebff;}#sk-container-id-1 div.sk-serial::before {content: \"\";position: absolute;border-left: 1px solid gray;box-sizing: border-box;top: 0;bottom: 0;left: 50%;z-index: 0;}#sk-container-id-1 div.sk-serial {display: flex;flex-direction: column;align-items: center;background-color: white;padding-right: 0.2em;padding-left: 0.2em;position: relative;}#sk-container-id-1 div.sk-item {position: relative;z-index: 1;}#sk-container-id-1 div.sk-parallel {display: flex;align-items: stretch;justify-content: center;background-color: white;position: relative;}#sk-container-id-1 div.sk-item::before, #sk-container-id-1 div.sk-parallel-item::before {content: \"\";position: absolute;border-left: 1px solid gray;box-sizing: border-box;top: 0;bottom: 0;left: 50%;z-index: -1;}#sk-container-id-1 div.sk-parallel-item {display: flex;flex-direction: column;z-index: 1;position: relative;background-color: white;}#sk-container-id-1 div.sk-parallel-item:first-child::after {align-self: flex-end;width: 50%;}#sk-container-id-1 div.sk-parallel-item:last-child::after {align-self: flex-start;width: 50%;}#sk-container-id-1 div.sk-parallel-item:only-child::after {width: 0;}#sk-container-id-1 div.sk-dashed-wrapped {border: 1px dashed gray;margin: 0 0.4em 0.5em 0.4em;box-sizing: border-box;padding-bottom: 0.4em;background-color: white;}#sk-container-id-1 div.sk-label label {font-family: monospace;font-weight: bold;display: inline-block;line-height: 1.2em;}#sk-container-id-1 div.sk-label-container {text-align: center;}#sk-container-id-1 div.sk-container {/* jupyter's `normalize.less` sets `[hidden] { display: none; }` but bootstrap.min.css set `[hidden] { display: none !important; }` so we also need the `!important` here to be able to override the default hidden behavior on the sphinx rendered scikit-learn.org. See: https://github.com/scikit-learn/scikit-learn/issues/21755 */display: inline-block !important;position: relative;}#sk-container-id-1 div.sk-text-repr-fallback {display: none;}</style><div id=\"sk-container-id-1\" class=\"sk-top-container\"><div class=\"sk-text-repr-fallback\"><pre>GridSearchCV(estimator=PLSRegression(),\n",
       "             param_grid={&#x27;n_components&#x27;: array([ 1,  2,  3,  4,  5,  6,  7,  8,  9, 10, 11, 12, 13, 14, 15])})</pre><b>In a Jupyter environment, please rerun this cell to show the HTML representation or trust the notebook. <br />On GitHub, the HTML representation is unable to render, please try loading this page with nbviewer.org.</b></div><div class=\"sk-container\" hidden><div class=\"sk-item sk-dashed-wrapped\"><div class=\"sk-label-container\"><div class=\"sk-label sk-toggleable\"><input class=\"sk-toggleable__control sk-hidden--visually\" id=\"sk-estimator-id-1\" type=\"checkbox\" ><label for=\"sk-estimator-id-1\" class=\"sk-toggleable__label sk-toggleable__label-arrow\">GridSearchCV</label><div class=\"sk-toggleable__content\"><pre>GridSearchCV(estimator=PLSRegression(),\n",
       "             param_grid={&#x27;n_components&#x27;: array([ 1,  2,  3,  4,  5,  6,  7,  8,  9, 10, 11, 12, 13, 14, 15])})</pre></div></div></div><div class=\"sk-parallel\"><div class=\"sk-parallel-item\"><div class=\"sk-item\"><div class=\"sk-label-container\"><div class=\"sk-label sk-toggleable\"><input class=\"sk-toggleable__control sk-hidden--visually\" id=\"sk-estimator-id-2\" type=\"checkbox\" ><label for=\"sk-estimator-id-2\" class=\"sk-toggleable__label sk-toggleable__label-arrow\">estimator: PLSRegression</label><div class=\"sk-toggleable__content\"><pre>PLSRegression()</pre></div></div></div><div class=\"sk-serial\"><div class=\"sk-item\"><div class=\"sk-estimator sk-toggleable\"><input class=\"sk-toggleable__control sk-hidden--visually\" id=\"sk-estimator-id-3\" type=\"checkbox\" ><label for=\"sk-estimator-id-3\" class=\"sk-toggleable__label sk-toggleable__label-arrow\">PLSRegression</label><div class=\"sk-toggleable__content\"><pre>PLSRegression()</pre></div></div></div></div></div></div></div></div></div></div>"
      ],
      "text/plain": [
       "GridSearchCV(estimator=PLSRegression(),\n",
       "             param_grid={'n_components': array([ 1,  2,  3,  4,  5,  6,  7,  8,  9, 10, 11, 12, 13, 14, 15])})"
      ]
     },
     "execution_count": 8,
     "metadata": {},
     "output_type": "execute_result"
    }
   ],
   "source": [
    "optim.fit(Xtrain, ytrain)"
   ]
  },
  {
   "cell_type": "code",
   "execution_count": 9,
   "metadata": {},
   "outputs": [],
   "source": [
    "#ycalc = optim.predict(Xtrain)\n",
    "#ypred = optim.predict(Xtest)"
   ]
  },
  {
   "cell_type": "markdown",
   "metadata": {},
   "source": [
    "## 3.適用範囲（AD）の設定\n",
    "第６回で作成した10,000の仮想化合物にたいして、上記のRDKit記述子をベースとしたPLSモデルによる予測を行います。また、予測結果が信頼できるかを確認するため、底本ではT2指標、Q値から適用範囲を定めています。 \n",
    "\n",
    "\n",
    "【補足】  \n",
    "T2指標とQ値は、生産における品質管理に関連する統計的な手法です。主に多変量データを分析し、プロセスの安定性や品質の変化を監視するために使用されます。\n",
    "\n",
    "1. **T2指標 (T2 Statistic)**:\n",
    "T2指標は、多変量プロセス監視のための統計的な指標で、プロセス内の変動や異常を検出するのに役立ちます。基本的には、多変量データの平均値と分散の組み合わせを用いて計算されます。T2指標はホットリリースティック法（HOTELLING'S T2法）に基づいています。\n",
    "\n",
    "T2指標は、以下の手順で計算されます：\n",
    "1. データセットの平均ベクトル（多変量データの平均値）を計算します。\n",
    "2. データセットの共分散行列（多変量データの分散共分散行列）を計算します。\n",
    "3. プロセスから得られたデータの平均ベクトルを計算し、それを基準平均ベクトルと比較します。\n",
    "4. プロセスから得られたデータの共分散行列を計算し、それを基準共分散行列と比較します。\n",
    "\n",
    "T2は距離指標であり、その測長には**マハラノビス距離**を用いています。これよりT2値（マハラノビス距離）を計算し、特定の閾値と比較することで、プロセスの異常や変化を監視することができます。\n",
    "\n",
    "2. **Q値 (Q Statistic)**:\n",
    "Q値も多変量プロセス監視のための指標で、プロセス内の変動や異常を検出する際に使用されます。T2指標と同様に、Q値も異常を検出するための基準となる閾値と比較されます。\n",
    "\n",
    "Q値は、データの観測値が平均値からどれだけ離れているかを示す指標で、基本的にはT2指標の計算における差異ベクトルを用いて計算されます。Q値は、各観測値の差異ベクトルの長さを示し、この長さが閾値を超える場合に異常と判定されることがあります。\n",
    "\n",
    "なお、T2指標、Q値は関数は次のようにdef関数として使います。PLSに対してT2指標、Q値を適用した内容については下記の技術ブログも参照してください。  \n",
    "https://nirpyresearch.com/outliers-detection-pls-regression-nir-spectroscopy-python/"
   ]
  },
  {
   "cell_type": "code",
   "execution_count": 10,
   "metadata": {},
   "outputs": [],
   "source": [
    "def t2_score(data, model):\n",
    "    \"T2値の計算モジュール\"\n",
    "    assert type(data)==pd.DataFrame or type(data)==np.ndarray, \"input must be pandas.DataFrame or np.array\"\n",
    "    \n",
    "    explained_std_ = np.sqrt(model.best_estimator_.x_scores_.var(axis=0))\n",
    "    scores_whiten = model.transform(data) / explained_std_\n",
    "    \n",
    "    return (scores_whiten ** 2.). sum(axis=1)\n",
    "\n",
    "def q_value(data, model):\n",
    "    \"Q値の計算モジュール\"\n",
    "    assert type(data)==pd.DataFrame or type(data)==np.ndarray, \"input must be pandas.DataFrame or np.array\"\n",
    "    \n",
    "    x_reproduced_ = model.transform(data) @ model.best_estimator_.x_loadings_.T\n",
    "    \n",
    "    return ((data - x_reproduced_)**2.).sum(axis=1)"
   ]
  },
  {
   "cell_type": "markdown",
   "metadata": {},
   "source": [
    "### 適用範囲（AD）の設定\n",
    "ADの設定範囲はdelaneyの溶解度データの教師データよりt2指標および q値を計算し、その範囲を定めます。Xtrainデータ（教師データ）よりT2指標とQ値を計算し、その95%quantile（２σ）を適用範囲の上限として設定します。"
   ]
  },
  {
   "cell_type": "markdown",
   "metadata": {},
   "source": [
    "### T2指標およびQ値の計算"
   ]
  },
  {
   "cell_type": "code",
   "execution_count": 11,
   "metadata": {},
   "outputs": [],
   "source": [
    "t2_values = t2_score(Xtrain, optim)\n",
    "q_values = q_value(Xtrain, optim)"
   ]
  },
  {
   "cell_type": "code",
   "execution_count": 12,
   "metadata": {},
   "outputs": [],
   "source": [
    "#t2_values"
   ]
  },
  {
   "cell_type": "markdown",
   "metadata": {},
   "source": [
    "### ADの上限値設定\n",
    "ここではT2指標およびQ値の95%quantile（２σ）を適用範囲の上限として設定しています。"
   ]
  },
  {
   "cell_type": "code",
   "execution_count": 13,
   "metadata": {},
   "outputs": [
    {
     "name": "stdout",
     "output_type": "stream",
     "text": [
      "t^2 - 95% quantile 30.847121386233002 \n",
      "q value - 95% quantile 512214902355.4178\n"
     ]
    }
   ],
   "source": [
    "t2_95q = np.quantile(t2_values, 0.95)\n",
    "qval_95q = np.quantile(q_values, 0.95)\n",
    "\n",
    "print('t^2 - 95% quantile', t2_95q, '\\nq value - 95% quantile', qval_95q)"
   ]
  },
  {
   "cell_type": "markdown",
   "metadata": {},
   "source": [
    "### ADの可視化\n",
    "設定されたADの範囲をプロットします。横軸をT2指標、縦軸をQ値とし、それぞれの95% quantileを破線で表示します。"
   ]
  },
  {
   "cell_type": "code",
   "execution_count": 14,
   "metadata": {},
   "outputs": [
    {
     "data": {
      "image/png": "[encoded data removed]",
      "text/plain": [
       "<Figure size 640x480 with 1 Axes>"
      ]
     },
     "metadata": {},
     "output_type": "display_data"
    }
   ],
   "source": [
    "plt.plot(t2_values, q_values, 'o')\n",
    "\n",
    "plt.xlabel('$T^2$ score')\n",
    "plt.ylabel('$Q$ score')\n",
    "plt.vlines(t2_95q, ymin=0, ymax=q_values.max(), linestyles='--')\n",
    "plt.hlines(qval_95q, xmin=0, xmax=t2_values.max(), linestyles='--')\n",
    "\n",
    "plt.show()"
   ]
  },
  {
   "cell_type": "markdown",
   "metadata": {},
   "source": [
    "ADの範囲がわかるように軸設定を変更します。"
   ]
  },
  {
   "cell_type": "code",
   "execution_count": 15,
   "metadata": {},
   "outputs": [
    {
     "data": {
      "image/png": "[encoded data removed]",
      "text/plain": [
       "<Figure size 640x480 with 1 Axes>"
      ]
     },
     "metadata": {},
     "output_type": "display_data"
    }
   ],
   "source": [
    "plt.plot(t2_values, q_values, 'o')\n",
    "\n",
    "plt.xlabel('$T^2$ score')\n",
    "plt.ylabel('$Q$ score')\n",
    "\n",
    "plt.ylim(-1e9,1e12)\n",
    "plt.vlines(t2_95q, ymin=0, ymax=q_values.max(), linestyles='--')\n",
    "plt.hlines(qval_95q, xmin=0, xmax=t2_values.max(), linestyles='--')\n",
    "\n",
    "plt.show()"
   ]
  },
  {
   "cell_type": "markdown",
   "metadata": {},
   "source": [
    "## 4.スクリーニング\n",
    "第６回で生成した10万の仮想化合物について並列処理によるPLSの予測器にかけて演算します。演算結果をSMILES構造（smi）、溶解度の予測値（ypred）, 当該予測値のt2指標（t2）および q値（q）の4つを.outファイルとして出力します。"
   ]
  },
  {
   "cell_type": "markdown",
   "metadata": {},
   "source": [
    "### 下記は【Google Colab】のみで実行してください。\n",
    "JupyterNotebookでは動作しません。別に準備する「7_Ex2_Solubility.py」でPythonそのものからデバック処理をしてください。"
   ]
  },
  {
   "cell_type": "code",
   "execution_count": 16,
   "metadata": {},
   "outputs": [],
   "source": [
    "from joblib import load as jl_load\n",
    "from multiprocessing import Pool, cpu_count\n",
    "\n",
    "from rdkit.Chem import MolFromSmiles\n",
    "\n",
    "from cheminfo.descriptors import RDKitDescriptor\n",
    "from cheminfo.metrics import t2_score, q_value"
   ]
  },
  {
   "cell_type": "markdown",
   "metadata": {},
   "source": [
    "次の`processor()`関数はmultiprocessで並列処理がかけられるように、仮想ライブラリのデータを読み込み、またPLSモデルから溶解度の予測値、およびT2指標とQ値を返すコードになります。"
   ]
  },
  {
   "cell_type": "code",
   "execution_count": 17,
   "metadata": {},
   "outputs": [],
   "source": [
    "def processor(argv):\n",
    "    \"\"\"予測値とSMILESを文字列で返す関数。multiprocessing.Pool.imap用。\"\"\"\n",
    "    smiles, model = argv\n",
    "    smi = smiles.strip()\n",
    "\n",
    "    mol = MolFromSmiles(smi)\n",
    "    mol.UpdatePropertyCache(strict=True)\n",
    "    rdcalc = RDKitDescriptor()\n",
    "    xnew = np.array(rdcalc.transform([mol]))\n",
    "    \n",
    "    print(type(xnew))\n",
    "    \n",
    "    ypred = model.predict(xnew)\n",
    "    t2 = t2_score(xnew, model)\n",
    "    q = q_value(xnew, model)\n",
    "    return '%s %.8f %.8f %.8f'%(smi, ypred, t2, q)\n"
   ]
  },
  {
   "cell_type": "markdown",
   "metadata": {},
   "source": [
    "`count_lines()`関数は、入力するmol_quad.smiファイルの行数をカウントする関数です。"
   ]
  },
  {
   "cell_type": "code",
   "execution_count": 18,
   "metadata": {},
   "outputs": [],
   "source": [
    "def count_lines(filename):\n",
    "    \"\"\"ファイルの行数を数える関数\"\"\"\n",
    "    with open(filename, 'r')as f:\n",
    "        c=0\n",
    "        for _ in f:\n",
    "            c+=1\n",
    "    return c"
   ]
  },
  {
   "cell_type": "markdown",
   "metadata": {},
   "source": [
    "次のmain()関数はpyでは基本処理の部分となります。最適化されたモデルファイルおよび仮想ライブラリの.smiを読み込み、15行目から並列処理を行います。"
   ]
  },
  {
   "cell_type": "code",
   "execution_count": null,
   "metadata": {},
   "outputs": [],
   "source": [
    "def main():\n",
    "    \"\"\"メイン関数。入力を受け取り、並列処理を実行。\"\"\"\n",
    "    # assert len(argv)>2, \"SYNTAX: python src/10.3-screening.py MODEL_FILE.joblib SMILES.smi\"\n",
    "    modelfile = \"./models/9.3_rdkit_pls.joblib\"\n",
    "    smilesfile = \"./results/mol_quad.smi\"\n",
    "\n",
    "    model = jl_load(modelfile)\n",
    "    n_counts = count_lines(smilesfile)\n",
    "\n",
    "    cs = 1000\n",
    "\n",
    "    model_sampler = (model for _ in range(n_counts))\n",
    "    outfile = open(smilesfile.replace('.smi', '.out'), 'w')\n",
    "\n",
    "    with open(smilesfile, 'r') as f:\n",
    "        with Pool(cpu_count()) as pool:\n",
    "            \"並列処理\"\n",
    "            for ret in pool.imap(processor, zip(f, model_sampler), chunksize=cs):\n",
    "                outfile.write(ret+'\\n')\n",
    "    outfile.close()# 開いたファイルオブジェクトは必ず閉じる。"
   ]
  },
  {
   "cell_type": "code",
   "execution_count": null,
   "metadata": {},
   "outputs": [],
   "source": [
    "main()"
   ]
  },
  {
   "cell_type": "markdown",
   "metadata": {},
   "source": [
    "### ADによるスクリーニング\n",
    "得られた.outを下記のようにopen関数で読み出して、AD以下に入る化合物をカウントします。\n",
    "（カウントの数は走らせるごとに異なります）"
   ]
  },
  {
   "cell_type": "code",
   "execution_count": null,
   "metadata": {},
   "outputs": [],
   "source": [
    "count = 0 \n",
    "with open('./results/mol_quad.out', 'r') as f:\n",
    "    for line in f:\n",
    "        line = line.strip()\n",
    "        info = line.split()\n",
    "        \n",
    "        if float(info[2])<=t2_95q and float(info[3])<=qval_95q:\n",
    "            count += 1\n",
    "    else:\n",
    "        print('予測結果の信頼できる化合物の数', count)"
   ]
  },
  {
   "cell_type": "markdown",
   "metadata": {},
   "source": [
    "## まとめ\n",
    "\n",
    "* 以上のように、ADを設定することで10,000のうち、上記の「予測結果の信頼できる化合物の数」に絞り込まれました。この中から予測値が高い化合物が候補材料としてみることができます。\n",
    "* その化合物の中からどの材料を実際に実験するかは、最終的には人の判断に委ねられます。溶解度の高い上位のランキングのものにするのも一案です。\n",
    "* 実験計画法としてのベイズ最適化（底本P101）を使って選択する方法もあります。今回のセミナーではベイズ最適化についてはカリキュラムには含めていませんが、機械学習モデルとあわせてベイズ最適化を使うことで効率的にターゲットを絞り込み、所望の化合物（物性）を得るまでの時間を軽減させることができます。"
   ]
  }
 ],
 "metadata": {
  "kernelspec": {
   "display_name": "Python 3 (ipykernel)",
   "language": "python",
   "name": "python3"
  },
  "language_info": {
   "codemirror_mode": {
    "name": "ipython",
    "version": 3
   },
   "file_extension": ".py",
   "mimetype": "text/x-python",
   "name": "python",
   "nbconvert_exporter": "python",
   "pygments_lexer": "ipython3",
   "version": "3.8.17"
  }
 },
 "nbformat": 4,
 "nbformat_minor": 4
}
