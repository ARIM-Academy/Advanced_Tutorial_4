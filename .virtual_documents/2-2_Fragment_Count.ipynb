








!pip install rdkit-pypi
!pip install mordred
!git clone https://github.com/ARIM-Training/Training_python_4.git
%cd Training_python_4





import pandas as pd 
import numpy as np
import matplotlib.pyplot as plt
import matplotlib as mpl

from rdkit.Chem import MolFromSmarts, MolFromSmiles
from rdkit.Chem.Descriptors import descList
from rdkit.Chem import AllChem
from rdkit.Chem import Draw

from warnings import filterwarnings
filterwarnings('ignore')# 警告を無視





df = pd.read_csv('./data/dataset/delaney-processed.csv')
df['Mol'] = df['smiles'].apply(MolFromSmiles)
df





# ベンゼン環の数え上げ
def count_rings(mol):
    fragment = MolFromSmarts('c1ccccc1')
    ret = mol.GetSubstructMatches(fragment)
    n_rings = len(ret)
    return n_rings








func = count_rings 
count = df['Mol'].apply(func)
count


# 図5.1　六員環の出現回数
fig = plt.subplots(figsize=(8, 6))
plt.hist(count, color ='blue')

plt.xlabel('Number of Benzene Units')
plt.ylabel('Freq')

plt.show()








fragment = MolFromSmarts('c1ccccc1')
fragment





matches = [m for m in df['Mol'] if m.HasSubstructMatch(fragment)]
print(f'There are {len(matches)} matched molecules')


matches[0]





Draw.MolsToGridImage(matches[:6])








listFreq = [key for key in dict(descList).keys() if key.startswith('fr_')]
list_functions = [dict(descList)[k] for k in listFreq]








def mol2freqs(mol):
    " 部分構造の出現回数 "
    return list(map(lambda f: f(mol), list_functions))


func = mol2freqs 
X = df['Mol'].apply(func)
X


from numpy import array
X2 = array(X.tolist())
X2








from sklearn.preprocessing import StandardScaler
from sklearn.decomposition import PCA
from sklearn.pipeline import make_pipeline





pca = make_pipeline(StandardScaler(), PCA())
T = pca.fit_transform(X2)





ratio_ = dict(pca.steps)['pca'].explained_variance_ratio_
ratio_








# 図5.2(a)　PCA第一主成分、第二主成分
fig = plt.subplots(figsize=(6, 5))
plt.plot(T[:,0], T[:,1], 'o', color ='blue')

plt.xlabel('PC1 {:.2f}%'.format(ratio_[0]*100))
plt.ylabel('PC2 {:.2f}%'.format(ratio_[1]*100))

plt.grid()
plt.show()


# 図5.2(b)　累積寄与率

from numpy import cumsum, arange
fig = plt.subplots(figsize=(6, 5))

plt.plot(arange(1,1+len(ratio_)), 100*cumsum( ratio_ ),'o', color ='blue')

plt.xlabel('Principle Components')
plt.ylabel('Cumulative Contribution Ratio [%]')

plt.grid()
plt.show()





# 図5.2(a)　PCA第一主成分、第二主成分

fig = plt.subplots(figsize=(6, 5))

y = df['measured log solubility in mols per litre'].values

plt.scatter(T[:,0],T[:,1], c=y, cmap=plt.cm.seismic)
cbar = plt.colorbar()

plt.xlabel('PC1 {:.2f}%'.format(ratio_[0]*100))
plt.ylabel('PC2 {:.2f}%'.format(ratio_[1]*100))

cbar.set_label('measured log solubility', rotation = 270)

plt.grid()
plt.show()








df = pd.read_csv('./data/dataset/delaney-processed.csv')


list_functions = list(dict(descList).values())


def mol2rdkit_desc(mol):
    " RDKit descriptors "
    return list(map(lambda f: f(mol), list_functions))


func = mol2rdkit_desc

df['Mol'] = df.smiles.apply(MolFromSmiles)

X = df.Mol.apply(func)
X2 = array(X.tolist())


pca = make_pipeline(StandardScaler(), PCA())
T = pca.fit_transform(X2)


ratio_ = dict(pca.steps)['pca'].explained_variance_ratio_


# 図5.3(a)　PCA第一主成分、第二主成分
fig = plt.subplots(figsize=(6, 5))
plt.plot(T[:,0], T[:,1], 'o', color ='blue')

plt.xlabel('PC1 {:.2f}%'.format(ratio_[0]*100))
plt.ylabel('PC2 {:.2f}%'.format(ratio_[1]*100))

plt.grid()
plt.show()


# 図5.3(b)　累積寄与率
fig = plt.subplots(figsize=(6, 5))

plt.plot(arange(1,1+len(ratio_)), 100*cumsum( ratio_ ),'o', color ='blue')
         
plt.xlabel('Principle Components')
plt.ylabel('Cumulative Contribution Ratio [%]')

plt.grid()

plt.show()


# 図5.2(a)　PCA第一主成分、第二主成分

fig = plt.subplots(figsize=(6, 5))
y = df['measured log solubility in mols per litre'].values

plt.scatter(T[:,0],T[:,1], c=y, cmap=plt.cm.seismic)
cbar = plt.colorbar()

plt.xlabel('PC1 {:.2f}%'.format(ratio_[0]*100))
plt.ylabel('PC2 {:.2f}%'.format(ratio_[1]*100))

cbar.set_label('measured log solubility', rotation = 270)

plt.grid()
plt.show()








from mordred import Calculator as mord_calc, descriptors


df = pd.read_csv('./data/dataset/delaney-processed.csv')
df['Mol'] = df.smiles.apply(MolFromSmiles)


calc2d = mord_calc(descriptors, ignore_3D=False)





descs2d = df.Mol.apply(calc2d)
dfX = calc2d.pandas(df.Mol)
print('data shape', dfX.shape)





# 標準化
sc = StandardScaler()
Xsc = sc.fit_transform(dfX)

is_nonnan = np.sum(np.isnan(Xsc), axis=0)==0





# 主成分分析
pca = make_pipeline(StandardScaler(),  PCA())
T = pca.fit_transform(dfX.iloc[:, np.where(is_nonnan)[0]])


#寄与率の計算
contrib_=pca.steps[-1][-1].explained_variance_ratio_


# 図5.4(a)　PCA第一主成分、第二主成分
fig = plt.subplots(figsize=(6, 5))
plt.plot(*T[:,:2].T, 'o',color='blue')

plt.xlabel('PC1 {:.2f}%'.format(100*contrib_[0]))
plt.ylabel('PC2 {:.2f}%'.format(100*contrib_[1]))

plt.grid()
plt.show()


# 図5.4(b)　累積寄与率
fig = plt.subplots(figsize=(6, 5))

plt.plot(np.cumsum(contrib_)*100, 'o',color='blue')
plt.xlabel('Principle Components')
plt.ylabel('Cumulative Contribution Ratio [%]')
plt.grid()
plt.show()


# 図5.2(a)　PCA第一主成分、第二主成分

fig = plt.subplots(figsize=(6, 5))
y = df['measured log solubility in mols per litre'].values

plt.scatter(T[:,0],T[:,1], c=y, cmap=plt.cm.seismic)
cbar = plt.colorbar()

plt.xlabel('PC1 {:.2f}%'.format(ratio_[0]*100))
plt.ylabel('PC2 {:.2f}%'.format(ratio_[1]*100))

cbar.set_label('measured log solubility', rotation = 270)

plt.grid()
plt.show()



